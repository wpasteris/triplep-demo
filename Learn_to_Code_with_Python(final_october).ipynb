{
  "nbformat": 4,
  "nbformat_minor": 0,
  "metadata": {
    "colab": {
      "name": "Learn to Code with Python(final october).ipynb",
      "provenance": [],
      "collapsed_sections": []
    },
    "kernelspec": {
      "name": "python3",
      "display_name": "Python 3"
    }
  },
  "cells": [
    {
      "cell_type": "markdown",
      "metadata": {
        "id": "WLpLrNuq2WWW",
        "colab_type": "text"
      },
      "source": [
        "\n",
        "<div>\n",
        "<center>\n",
        "<img src=\"https://programwithus.com/media/products/pythonWebinar_k51NM2Q.jpg\" width=\"600\"/>\n",
        "<br>\n",
        "<h1>Python Programming Primer</h1>\n",
        "<h4>by William Pasteris</h4>\n",
        "</center> \n",
        "<hr><hr>\n",
        "</div>\n",
        "\n",
        "\n",
        "\n",
        "\n",
        "\n",
        "\n",
        "\n",
        "\n"
      ]
    },
    {
      "cell_type": "markdown",
      "metadata": {
        "id": "S2GGkBMQ8IE1",
        "colab_type": "text"
      },
      "source": [
        "<div><center>\n",
        "<h2>Part 0 - Hello, World!</h2>\n",
        "<img src=\"https://christopher.in/assets/images/hello-world.png\" height=\"200\"/>\n",
        "\n",
        "\n",
        "\n",
        "<h3> [0.1]<br>--------- </h3>\n",
        "<br>\n",
        "To run a block of code, click on it to select it and then you can either click the run button on the right of the block or press ctrl-enter. \n",
        "</center><br>\n",
        "\n",
        "</div>\n",
        "\n",
        "\n"
      ]
    },
    {
      "cell_type": "code",
      "metadata": {
        "id": "dwVL6Lse2WWX",
        "colab_type": "code",
        "cellView": "code",
        "colab": {}
      },
      "source": [
        "print(\"Hello, World!\")\n",
        "\n",
        "# This is a comment. It is isn't run as code but can be helpful for notes."
      ],
      "execution_count": 0,
      "outputs": []
    },
    {
      "cell_type": "markdown",
      "metadata": {
        "id": "YQDHqetJAc3q",
        "colab_type": "text"
      },
      "source": [
        "\n",
        "<div><h2><center>\n",
        "<img src=\"https://pbs.twimg.com/media/Cyc4zXUVIAAKEC5.jpg\" height=\"150\"/><br>\n",
        "(Hacker voice) We're in.</center>\n",
        "</h2>\n",
        "<br><br><br>\n",
        "<hr><hr>\n",
        "</div>\n",
        "\n",
        "\n"
      ]
    },
    {
      "cell_type": "markdown",
      "metadata": {
        "id": "aCtRUcXG2WWo",
        "colab_type": "text"
      },
      "source": [
        "<div><center>\n",
        "<h1>Part 1 - Variables</h1>\n",
        "<img src=\"https://lawtomated.com/wp-content/uploads/2017/02/variables.png\" height=\"100\"/>\n",
        "\n",
        "<br>\n",
        "<h3> [1.1]<br>--------- </h3>\n",
        "</center></div>"
      ]
    },
    {
      "cell_type": "code",
      "metadata": {
        "id": "RDMgBJV9BZnA",
        "colab_type": "code",
        "colab": {}
      },
      "source": [
        "this_is_a_veeeery_long_variable_name = \"Hello, World!\"\n",
        "\n",
        "# let's use the variable to print the text we stored\n",
        "print(this_is_a_veeeery_long_variable_name)"
      ],
      "execution_count": 0,
      "outputs": []
    },
    {
      "cell_type": "markdown",
      "metadata": {
        "id": "MOlixc2dBx8g",
        "colab_type": "text"
      },
      "source": [
        "<center>Hello again!</center>"
      ]
    },
    {
      "cell_type": "markdown",
      "metadata": {
        "id": "rx80Wqzup1Ek",
        "colab_type": "text"
      },
      "source": [
        "<div><center>\n",
        "<br>\n",
        "<h3> [1.2]<br>--------- </h3>\n",
        "</center></div>"
      ]
    },
    {
      "cell_type": "code",
      "metadata": {
        "id": "ARNSWgj6CDTJ",
        "colab_type": "code",
        "colab": {}
      },
      "source": [
        "x = \"Hello, World!\"\n",
        "print(x)"
      ],
      "execution_count": 0,
      "outputs": []
    },
    {
      "cell_type": "markdown",
      "metadata": {
        "id": "MJDcsYAdCgiL",
        "colab_type": "text"
      },
      "source": [
        "<div><center>\n",
        "<br>\n",
        "<h3> [1.3]<br>--------- </h3>\n",
        "</center></div>"
      ]
    },
    {
      "cell_type": "code",
      "metadata": {
        "id": "9v0NRq6NCrjd",
        "colab_type": "code",
        "colab": {}
      },
      "source": [
        "# using variables to store other variables\n",
        "x = 10\n",
        "y = x\n",
        "print(y)\n",
        "\n",
        "# let's update the value we store in x\n",
        "x = 20\n",
        "print(y)"
      ],
      "execution_count": 0,
      "outputs": []
    },
    {
      "cell_type": "markdown",
      "metadata": {
        "id": "KU-9tubyC2rZ",
        "colab_type": "text"
      },
      "source": [
        "\n",
        "\n",
        "\n",
        "\n",
        "<div><center>\n",
        "<h3>Wait, what happened here.. did you expect 10 to be printed twice? </h3>\n",
        "<img src=\"https://emojipedia-us.s3.dualstack.us-west-1.amazonaws.com/thumbs/120/twitter/228/thinking-face_1f914.png\" width=\"100\"/><br><br><br>\n",
        "<hr><hr></div>"
      ]
    },
    {
      "cell_type": "markdown",
      "metadata": {
        "id": "WRaVCt_Q2WWa",
        "colab_type": "text"
      },
      "source": [
        "<div><center>\n",
        "<h1>Part 2 - Arithmetic</h1>\n",
        "<img src=\"https://www.2braces.com/images/c-arithmetic-operators.svg\" height=\"150\"/>\n",
        "\n",
        "<br>\n",
        "<h3> [2.1]<br>--------- </h3>\n",
        "</div>"
      ]
    },
    {
      "cell_type": "code",
      "metadata": {
        "id": "RTJkQcOV2WWb",
        "colab_type": "code",
        "colab": {}
      },
      "source": [
        "# do you really need a computer for this?\n",
        "1 + 1"
      ],
      "execution_count": 0,
      "outputs": []
    },
    {
      "cell_type": "markdown",
      "metadata": {
        "id": "7f-ngLQCHQF9",
        "colab_type": "text"
      },
      "source": [
        "<div>\n",
        "  <center>\n",
        "In this universe, the answer should be 2. <br><br><br>\n",
        "operators: <p>\n",
        "<table>\n",
        "<tbody>\n",
        "<tr>\n",
        "<td>Multplication</td>\n",
        "<td>*</td>\n",
        "</tr>\n",
        "<tr>\n",
        "<td>Division</td>\n",
        "<td>/</td>\n",
        "</tr>\n",
        "<tr>\n",
        "<td>Addition</td>\n",
        "<td>+</td>\n",
        "</tr>\n",
        "<tr>\n",
        "<td>Subtraction</td>\n",
        "<td>-</td>\n",
        "</tr>\n",
        "<tr>\n",
        "<td>Modulo</td>\n",
        "<td>%</td>\n",
        "</tr>\n",
        "</tbody></center>\n",
        "</div>\n",
        "\n"
      ]
    },
    {
      "cell_type": "markdown",
      "metadata": {
        "id": "HFeZRVjT9PU6",
        "colab_type": "text"
      },
      "source": [
        "<div><center>\n",
        "<h3> [2.2]</h3>\n",
        "</center></div>"
      ]
    },
    {
      "cell_type": "code",
      "metadata": {
        "id": "wlw_QO3v2WWh",
        "colab_type": "code",
        "colab": {}
      },
      "source": [
        "# let's use some operators to make the number 250\n",
        "110 - 10 * 5 / 2"
      ],
      "execution_count": 0,
      "outputs": []
    },
    {
      "cell_type": "markdown",
      "metadata": {
        "id": "Val2rjBbECEh",
        "colab_type": "text"
      },
      "source": [
        "<div>\n",
        "  <center>Hint: P.E.M.D.A.S</center>\n",
        "  <br><br><br>\n",
        "  <h3><center>[2.3]<br>---------</center>\n",
        "</div>"
      ]
    },
    {
      "cell_type": "code",
      "metadata": {
        "id": "Xt4Ej0Xf2WWk",
        "colab_type": "code",
        "colab": {}
      },
      "source": [
        "meal = 100.00\n",
        "# as a decimal, 10% would be 0.1\n",
        "tip_percent = 0.10\n",
        "\n",
        "meal * tip_percent"
      ],
      "execution_count": 0,
      "outputs": []
    },
    {
      "cell_type": "markdown",
      "metadata": {
        "id": "zNYWWOLcIGC3",
        "colab_type": "text"
      },
      "source": [
        "\n",
        "\n",
        "<div><center>\n",
        "<h3>\"Hey, can you tip better than that?\" </h3>\n",
        "<img src=\"https://cdn.iconscout.com/icon/premium/png-256-thumb/waitress-43-908191.png\" height=\"100\"/>\n",
        "\n",
        "<br><br>\n",
        "<h3> [2.4]<br>--------- </h3>\n",
        "</div>\n",
        "\n"
      ]
    },
    {
      "cell_type": "code",
      "metadata": {
        "id": "K1p_UPCpNorx",
        "colab_type": "code",
        "colab": {}
      },
      "source": [
        "# 3/2 = 1r1, therefore modulo = 1\n",
        "remainder_of_1 = 3 % 2 \n",
        "\n",
        "# 2/2 = 1r0, therefore modulo = 0\n",
        "remainder_of_0 = 2 % 2\n",
        "\n",
        "# fill in the print statement to see what the remainder of 19/4 is\n",
        "mystery = 10 % 3\n",
        "print()"
      ],
      "execution_count": 0,
      "outputs": []
    },
    {
      "cell_type": "markdown",
      "metadata": {
        "id": "ywPd8314D7dT",
        "colab_type": "text"
      },
      "source": [
        "<br><br><hr><hr>\n",
        "\n",
        "\n",
        "\n"
      ]
    },
    {
      "cell_type": "markdown",
      "metadata": {
        "id": "i1WllpSA2WXV",
        "colab_type": "text"
      },
      "source": [
        "\n",
        "<div><center>\n",
        "<h1>Part 3 - If Else</h1>\n",
        "<img src=\"http://pages.cs.wisc.edu/~cs310-1/modules/Programming/Conditional%20Execution%20and%20Code%20Tracing/Conditional%20Execution/if_else_flow.jpg\" height=\"190\"/>\n",
        "\n",
        "<br>\n",
        "<h3> [3.1]<br>--------- </h3>\n",
        "</div>\n",
        "\n"
      ]
    },
    {
      "cell_type": "code",
      "metadata": {
        "id": "aXf60nkNLMSm",
        "colab_type": "code",
        "colab": {}
      },
      "source": [
        "if 8 > 7:\n",
        "  print(\"This is true.\")\n",
        "else:\n",
        "  print(\"What universe am I in??\")"
      ],
      "execution_count": 0,
      "outputs": []
    },
    {
      "cell_type": "markdown",
      "metadata": {
        "id": "-JEsBhN-Lu6Q",
        "colab_type": "text"
      },
      "source": [
        "<div>\n",
        "  <br><br><br>\n",
        "  <h3><center>[3.2]<br>---------</center>\n",
        "</div>"
      ]
    },
    {
      "cell_type": "code",
      "metadata": {
        "id": "KPsUpo5vM2xa",
        "colab_type": "code",
        "colab": {}
      },
      "source": [
        "# complicated code that you can ignore\n",
        "from datetime import date as d\n",
        "import calendar as c\n",
        "day_of_the_week = c.day_name[d.today().weekday()]\n",
        "\n",
        "# here is the important part\n",
        "if day_of_the_week == \"Monday\":\n",
        "  print(\"Cats hate Mondays.\")\n",
        "else:\n",
        "  print(\"I'm glad it's not Monday!\")"
      ],
      "execution_count": 0,
      "outputs": []
    },
    {
      "cell_type": "markdown",
      "metadata": {
        "id": "ZT-89XTAIOR4",
        "colab_type": "text"
      },
      "source": [
        "<br><br><hr><hr>"
      ]
    },
    {
      "cell_type": "markdown",
      "metadata": {
        "colab_type": "text",
        "id": "BwCZu4Yw82eJ"
      },
      "source": [
        "\n",
        "<div><center>\n",
        "<h1>Part 4 - Loops</h1>\n",
        "<img src=\"https://static.thenounproject.com/png/105229-200.png\" height=\"190\"/>\n",
        "\n",
        "<br>\n",
        "<h3> [4.1]<br>--------- </h3>\n",
        "</div>\n",
        "\n",
        "\n"
      ]
    },
    {
      "cell_type": "code",
      "metadata": {
        "id": "X9hUvBYEPMx9",
        "colab_type": "code",
        "colab": {}
      },
      "source": [
        "# print the numbers 1 to 5\n",
        "for number in range(1,6):\n",
        "  print(number)"
      ],
      "execution_count": 0,
      "outputs": []
    },
    {
      "cell_type": "markdown",
      "metadata": {
        "id": "th7C4AB8Pp2o",
        "colab_type": "text"
      },
      "source": [
        "<div>\n",
        "  <br><br><br>\n",
        "  <h3><center>[4.2]<br>---------</center>\n",
        "</div>"
      ]
    },
    {
      "cell_type": "code",
      "metadata": {
        "id": "9m0sietQRHqr",
        "colab_type": "code",
        "colab": {}
      },
      "source": [
        "# Let's print all the things in this list one by one\n",
        "list = [\"Programming\", \"in\", \"a\", \"Jupyter\", \"Notebook\", \"is\", \"fun\", \"!\"]\n",
        "length_of_list = len(list)\n",
        "# the important part\n",
        "for list_index_number in range(0, length_of_list):\n",
        "  print(list[list_index_number])"
      ],
      "execution_count": 0,
      "outputs": []
    },
    {
      "cell_type": "markdown",
      "metadata": {
        "id": "dSPtQL4BI1mY",
        "colab_type": "text"
      },
      "source": [
        "<br><br><hr><hr>"
      ]
    },
    {
      "cell_type": "markdown",
      "metadata": {
        "colab_type": "text",
        "id": "Dsmn6nF385Ml"
      },
      "source": [
        "<div><center>\n",
        "<h1>Algorithm - Sieve of Eratosthenes</h1>\n",
        "<img src=\"http://www.famousmathematicians.com/wp-content/uploads/2016/09/Eratosthenes-1.jpg\" height=\"180\"/>\n",
        "\n",
        "<br>\n",
        "\n",
        "<p>The Greek mathematician Eratosthenes lived around 300 BCE and designed an algorithm to find all the prime numbers. \n",
        "\n",
        "<p><h3>Before you run the code, tell me things recognize about this algorithm.\n",
        "<br>\n",
        "---------\n",
        "</center></h3>\n",
        "</div>\n",
        "\n",
        "\n"
      ]
    },
    {
      "cell_type": "code",
      "metadata": {
        "id": "1Hkqu4tdTWvk",
        "colab_type": "code",
        "colab": {}
      },
      "source": [
        "def isPrime(num):\n",
        "    for index in range(2, num):\n",
        "        if num % index == 0: \n",
        "            return False;\n",
        "\n",
        "    return True;\n",
        "\n",
        "\n",
        "# Note: 2 is the smallest prime number, by definition, so lets print it first\n",
        "print(\"2\")\n",
        "\n",
        "# Try changing this variable\n",
        "maximum = 50\n",
        "\n",
        "# !!!Start evaluating the code here!!!!!\n",
        "for number in range(3, maximum):\n",
        "    if isPrime(number): \n",
        "        print(number)"
      ],
      "execution_count": 0,
      "outputs": []
    },
    {
      "cell_type": "markdown",
      "metadata": {
        "id": "dwpsyRbfZh9g",
        "colab_type": "text"
      },
      "source": [
        "\n",
        "\n",
        "\n",
        "<div>\n",
        "  <br><br><br><br>\n",
        "  <h3><center>Here is a visual representation of how this algorithm works.\n",
        "<br>---------<br>\n",
        "\n",
        "<img src=\"https://upload.wikimedia.org/wikipedia/commons/b/b9/Sieve_of_Eratosthenes_animation.gif\" height=\"280\"/>\n",
        "\n",
        "</center>\n",
        "</div>"
      ]
    }
  ]
}